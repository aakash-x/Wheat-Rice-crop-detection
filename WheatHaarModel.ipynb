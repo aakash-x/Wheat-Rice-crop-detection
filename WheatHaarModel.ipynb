{
 "cells": [
  {
   "cell_type": "code",
   "execution_count": null,
   "metadata": {},
   "outputs": [],
   "source": [
    "\n"
   ]
  },
  {
   "cell_type": "code",
   "execution_count": 1,
   "metadata": {},
   "outputs": [],
   "source": [
    "import  cv2\n",
    "import imutils\n",
    "import numpy as np\n",
    "import datetime\n",
    "\n"
   ]
  },
  {
   "cell_type": "code",
   "execution_count": 2,
   "metadata": {},
   "outputs": [],
   "source": [
    "wheat_cascade = cv2.CascadeClassifier('C:/Users/aakashx/Documents/CV Project/wheat/cascade.xml')\n",
    "camera=cv2.VideoCapture('C:/Users/aakashx/Documents/CV Project/wheat/Input.mp4')\n"
   ]
  },
  {
   "cell_type": "code",
   "execution_count": 3,
   "metadata": {},
   "outputs": [
    {
     "name": "stdout",
     "output_type": "stream",
     "text": [
      "Wheat Detected\n"
     ]
    }
   ],
   "source": [
    "firstFrame =None\n",
    "wheat_exist = False\n",
    "while True:\n",
    "    (grabbed, frame)=camera.read()\n",
    "    \n",
    "    if not grabbed:\n",
    "        break\n",
    "    frame = imutils.resize(frame , width=500)\n",
    "    gray = cv2.cvtColor(frame, cv2.COLOR_BGR2GRAY)\n",
    "    gray = cv2.GaussianBlur(gray, (21,21) , 0)\n",
    "    wheat =wheat_cascade.detectMultiScale(gray,1.3,5,minSize=(100,100))\n",
    "    \n",
    "    if len(wheat) >0:\n",
    "        wheat_exist = True\n",
    "    for (x,y,w,h) in wheat :\n",
    "        frame =cv2.rectangle(frame,(x,y),(x+w , y+h),(255,0,0),2)\n",
    "        roi_gray =gray[y:y+h, x:x+w]\n",
    "        roi_color =frame[y:y+h, x:x+w]\n",
    "    if firstFrame is None:\n",
    "        firstFrame = gray\n",
    "        continue\n",
    "    \n",
    "    cv2.putText(frame, datetime.datetime.now().strftime(\"%A %d %B %Y %T %M %S %p\"),\n",
    "               (10,frame.shape[0] - 10),cv2.FONT_HERSHEY_SIMPLEX, 0.35,(0,0,255),1)\n",
    "    cv2.imshow(\"security Feed\",frame)\n",
    "    key = cv2.waitKey(1) & 0xFF\n",
    "        \n",
    "if wheat_exist:\n",
    "    print(\"Wheat Detected\")\n",
    "else:\n",
    "    print(\"Wheat not detected\")\n",
    "camera.release()\n",
    "cv2.destroyAllWindows()\n",
    "    \n",
    "        "
   ]
  }
 ],
 "metadata": {
  "kernelspec": {
   "display_name": "Python 3",
   "language": "python",
   "name": "python3"
  },
  "language_info": {
   "codemirror_mode": {
    "name": "ipython",
    "version": 3
   },
   "file_extension": ".py",
   "mimetype": "text/x-python",
   "name": "python",
   "nbconvert_exporter": "python",
   "pygments_lexer": "ipython3",
   "version": "3.6.5"
  }
 },
 "nbformat": 4,
 "nbformat_minor": 2
}
